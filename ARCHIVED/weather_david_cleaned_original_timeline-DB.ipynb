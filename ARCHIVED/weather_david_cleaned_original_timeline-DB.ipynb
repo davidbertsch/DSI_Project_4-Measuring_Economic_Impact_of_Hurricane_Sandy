{
 "cells": [
  {
   "cell_type": "code",
   "execution_count": 2,
   "metadata": {},
   "outputs": [],
   "source": [
    "import pandas as pd\n",
    "import numpy as np\n",
    "import matplotlib.pyplot as plt"
   ]
  },
  {
   "cell_type": "code",
   "execution_count": 11,
   "metadata": {},
   "outputs": [],
   "source": [
    "atlantic_baro = pd.read_csv(\"./weather-clean-data-original-time/atlantic_baro.csv\")\n",
    "atlantic_tide = pd.read_csv(\"./weather-clean-data-original-time/atlantic_tide.csv\")\n",
    "atlantic_prep = pd.read_csv(\"./weather-clean-data-original-time/atlantic_prep.csv\")"
   ]
  },
  {
   "cell_type": "code",
   "execution_count": 13,
   "metadata": {},
   "outputs": [],
   "source": [
    "baltimore_baro = pd.read_csv(\"./weather-clean-data-original-time/baltimore_baro.csv\")\n",
    "baltimore_tide = pd.read_csv(\"./weather-clean-data-original-time/baltimore_tide.csv\")\n",
    "baltimore_prep = pd.read_csv(\"./weather-clean-data-original-time/baltimore_prep.csv\")"
   ]
  },
  {
   "cell_type": "code",
   "execution_count": 14,
   "metadata": {},
   "outputs": [],
   "source": [
    "boston_baro = pd.read_csv(\"./weather-clean-data-original-time/boston_baro.csv\")\n",
    "boston_tide = pd.read_csv(\"./weather-clean-data-original-time/boston_tide.csv\")\n",
    "boston_prep = pd.read_csv(\"./weather-clean-data-original-time/boston_prep.csv\")"
   ]
  },
  {
   "cell_type": "code",
   "execution_count": 15,
   "metadata": {},
   "outputs": [],
   "source": [
    "bridgeport_baro = pd.read_csv(\"./weather-clean-data-original-time/bridgeport_baro.csv\")\n",
    "bridgeport_tide = pd.read_csv(\"./weather-clean-data-original-time/bridgeport_tide.csv\")\n",
    "bridgeport_prep = pd.read_csv(\"./weather-clean-data-original-time/bridgeport_prep.csv\")"
   ]
  },
  {
   "cell_type": "code",
   "execution_count": 16,
   "metadata": {},
   "outputs": [],
   "source": [
    "new_haven_baro = pd.read_csv(\"./weather-clean-data-original-time/new_haven_baro.csv\")\n",
    "new_haven_tide = pd.read_csv(\"./weather-clean-data-original-time/new_haven_tide.csv\")\n",
    "new_haven_prep = pd.read_csv(\"./weather-clean-data-original-time/new_haven_prep.csv\")"
   ]
  },
  {
   "cell_type": "code",
   "execution_count": 17,
   "metadata": {},
   "outputs": [],
   "source": [
    "new_london_baro = pd.read_csv(\"./weather-clean-data-original-time/new_london_baro.csv\")\n",
    "new_london_tide = pd.read_csv(\"./weather-clean-data-original-time/new_london_tide.csv\")\n",
    "new_london_prep = pd.read_csv(\"./weather-clean-data-original-time/new_london_prep.csv\")"
   ]
  },
  {
   "cell_type": "code",
   "execution_count": 19,
   "metadata": {},
   "outputs": [],
   "source": [
    "ocean_city_baro = pd.read_csv(\"./weather-clean-data-original-time/ocean_city_baro.csv\")\n",
    "ocean_city_tide = pd.read_csv(\"./weather-clean-data-original-time/ocean_city_tide.csv\")\n",
    "ocean_city_prep = pd.read_csv(\"./weather-clean-data-original-time/ocean_city_prep.csv\")"
   ]
  },
  {
   "cell_type": "code",
   "execution_count": 18,
   "metadata": {},
   "outputs": [],
   "source": [
    "portland_baro = pd.read_csv(\"./weather-clean-data-original-time/portland_baro.csv\")\n",
    "portland_tide = pd.read_csv(\"./weather-clean-data-original-time/portland_tide.csv\")\n",
    "portland_prep = pd.read_csv(\"./weather-clean-data-original-time/portland_prep.csv\")"
   ]
  },
  {
   "cell_type": "code",
   "execution_count": 20,
   "metadata": {},
   "outputs": [],
   "source": [
    "providence_baro = pd.read_csv(\"./weather-clean-data-original-time/providence_baro.csv\")\n",
    "providence_tide = pd.read_csv(\"./weather-clean-data-original-time/providence_tide.csv\")\n",
    "providence_prep = pd.read_csv(\"./weather-clean-data-original-time/providence_prep.csv\")"
   ]
  },
  {
   "cell_type": "code",
   "execution_count": null,
   "metadata": {},
   "outputs": [],
   "source": []
  }
 ],
 "metadata": {
  "kernelspec": {
   "display_name": "DSI",
   "language": "python",
   "name": "dsi"
  },
  "language_info": {
   "codemirror_mode": {
    "name": "ipython",
    "version": 3
   },
   "file_extension": ".py",
   "mimetype": "text/x-python",
   "name": "python",
   "nbconvert_exporter": "python",
   "pygments_lexer": "ipython3",
   "version": "3.6.7"
  }
 },
 "nbformat": 4,
 "nbformat_minor": 2
}
