{
 "cells": [
  {
   "cell_type": "code",
   "execution_count": 27,
   "metadata": {},
   "outputs": [],
   "source": [
    "import pandas as pd\n",
    "import numpy as np\n",
    "import matplotlib.pyplot as plt\n",
    "\n",
    "import statsmodels.api as sm\n",
    "from statsmodels.tsa.stattools import acf, pacf\n",
    "from statsmodels.graphics.tsaplots import plot_acf, plot_pacf\n",
    "from statsmodels.tsa.seasonal import seasonal_decompose\n",
    "\n",
    "\n",
    "from statsmodels.tsa.stattools import adfuller"
   ]
  },
  {
   "cell_type": "code",
   "execution_count": 23,
   "metadata": {},
   "outputs": [],
   "source": [
    "atlantic_unemploy = pd.read_csv('./data/Atlantic_city_data/unemployment_nonseaonal.csv')\n",
    "boston_unemploy = pd.read_csv('./data/Boston/unemployment_nonseasonal.csv')\n",
    "bridgeport_unemploy = pd.read_csv('./data/bridgeport_data/unemployment_nonseasonal.csv')\n",
    "new_haven_unemploy = pd.read_csv('./data/new_haven_data/unemployment_nonseasonal.csv')\n",
    "new_london_unemploy = pd.read_csv('./data/new_london_data/unemployment_nonseasonal.csv')\n",
    "newport_unemploy = pd.read_csv('./data/newport/unemployment_nonseasonal.csv')\n",
    "baltimore_unemploy = pd.read_csv('./data/baltimore_data/unemployment_nonseasonal.csv')\n",
    "ocean_city_unemploy = pd.read_csv('./data/ocean_city/unemployment_nonseasonal.csv')\n",
    "portland_unemploy = pd.read_csv('./data/portland/unemployment_nonseasonal.csv')\n",
    "providence_unemploy = pd.read_csv('./data/providence/unemployment_nonseasonal.csv')"
   ]
  },
  {
   "cell_type": "code",
   "execution_count": 24,
   "metadata": {},
   "outputs": [],
   "source": [
    "atlantic_unemploy.index = pd.to_datetime(atlantic_unemploy[\"DATE\"])\n",
    "atlantic_unemploy.drop(columns = [\"DATE\"], inplace=True)\n",
    "\n",
    "baltimore_unemploy.index = pd.to_datetime(baltimore_unemploy[\"DATE\"])\n",
    "baltimore_unemploy.drop(columns = [\"DATE\"], inplace=True)\n",
    "\n",
    "boston_unemploy.index = pd.to_datetime(boston_unemploy[\"DATE\"])\n",
    "boston_unemploy.drop(columns = [\"DATE\"], inplace=True)\n",
    "\n",
    "bridgeport_unemploy.index = pd.to_datetime(bridgeport_unemploy[\"DATE\"])\n",
    "bridgeport_unemploy.drop(columns = [\"DATE\"], inplace=True)"
   ]
  },
  {
   "cell_type": "code",
   "execution_count": 30,
   "metadata": {},
   "outputs": [
    {
     "data": {
      "text/html": [
       "<div>\n",
       "<style scoped>\n",
       "    .dataframe tbody tr th:only-of-type {\n",
       "        vertical-align: middle;\n",
       "    }\n",
       "\n",
       "    .dataframe tbody tr th {\n",
       "        vertical-align: top;\n",
       "    }\n",
       "\n",
       "    .dataframe thead th {\n",
       "        text-align: right;\n",
       "    }\n",
       "</style>\n",
       "<table border=\"1\" class=\"dataframe\">\n",
       "  <thead>\n",
       "    <tr style=\"text-align: right;\">\n",
       "      <th></th>\n",
       "      <th>ATLA134URN</th>\n",
       "    </tr>\n",
       "    <tr>\n",
       "      <th>DATE</th>\n",
       "      <th></th>\n",
       "    </tr>\n",
       "  </thead>\n",
       "  <tbody>\n",
       "    <tr>\n",
       "      <th>2010-01-01</th>\n",
       "      <td>13.9</td>\n",
       "    </tr>\n",
       "    <tr>\n",
       "      <th>2010-02-01</th>\n",
       "      <td>13.8</td>\n",
       "    </tr>\n",
       "    <tr>\n",
       "      <th>2010-03-01</th>\n",
       "      <td>13.1</td>\n",
       "    </tr>\n",
       "    <tr>\n",
       "      <th>2010-04-01</th>\n",
       "      <td>12.1</td>\n",
       "    </tr>\n",
       "    <tr>\n",
       "      <th>2010-05-01</th>\n",
       "      <td>11.8</td>\n",
       "    </tr>\n",
       "  </tbody>\n",
       "</table>\n",
       "</div>"
      ],
      "text/plain": [
       "            ATLA134URN\n",
       "DATE                  \n",
       "2010-01-01        13.9\n",
       "2010-02-01        13.8\n",
       "2010-03-01        13.1\n",
       "2010-04-01        12.1\n",
       "2010-05-01        11.8"
      ]
     },
     "execution_count": 30,
     "metadata": {},
     "output_type": "execute_result"
    }
   ],
   "source": [
    "atlantic_unemploy.head()"
   ]
  },
  {
   "cell_type": "code",
   "execution_count": 32,
   "metadata": {},
   "outputs": [
    {
     "data": {
      "image/png": "[encoded data removed]",
      "text/plain": [
       "<Figure size 432x288 with 1 Axes>"
      ]
     },
     "metadata": {
      "needs_background": "light"
     },
     "output_type": "display_data"
    }
   ],
   "source": [
    "plt.plot(baltimore_unemploy);"
   ]
  },
  {
   "cell_type": "code",
   "execution_count": 28,
   "metadata": {},
   "outputs": [],
   "source": [
    "# Code written by Joseph Nelson.\n",
    "\n",
    "def interpret_dftest(dftest):\n",
    "    dfoutput = pd.Series(dftest[0:2], index=['Test Statistic','p-value'])\n",
    "    return dfoutput"
   ]
  },
  {
   "cell_type": "code",
   "execution_count": 31,
   "metadata": {},
   "outputs": [
    {
     "name": "stdout",
     "output_type": "stream",
     "text": [
      "Checking difference of 1.\n",
      "p-value = 0.5028682621558089.\n",
      "\n",
      "Checking difference of 2.\n",
      "p-value = 0.5051096244919152.\n",
      "\n",
      "Checking difference of 3.\n",
      "p-value = 0.5199989167140712.\n",
      "\n",
      "Checking difference of 4.\n",
      "p-value = 0.49173570830050534.\n",
      "\n",
      "Checking difference of 5.\n",
      "p-value = 0.6900010544847882.\n",
      "\n",
      "Checking difference of 6.\n",
      "p-value = 0.5661506034794311.\n",
      "\n",
      "Checking difference of 7.\n",
      "p-value = 0.44747266850203266.\n",
      "\n",
      "Checking difference of 8.\n",
      "p-value = 0.3505000929083433.\n",
      "\n",
      "Checking difference of 9.\n",
      "p-value = 0.38791967754480394.\n",
      "\n",
      "Checking difference of 10.\n",
      "p-value = 0.29277753769235665.\n",
      "\n",
      "Checking difference of 11.\n",
      "p-value = 0.05113802194187573.\n",
      "\n",
      "Checking difference of 12.\n",
      "p-value = 0.6449832665816815.\n",
      "\n",
      "Checking difference of 13.\n",
      "p-value = 0.05808514295501104.\n",
      "\n",
      "Checking difference of 14.\n",
      "p-value = 0.5105144496168847.\n",
      "\n",
      "Checking difference of 15.\n",
      "p-value = 0.5780330935560211.\n",
      "\n",
      "Checking difference of 16.\n",
      "p-value = 0.5603268702583305.\n",
      "\n",
      "Checking difference of 17.\n",
      "p-value = 0.11782621875294752.\n",
      "\n",
      "Checking difference of 18.\n",
      "p-value = 0.6132244206793319.\n",
      "\n",
      "Checking difference of 19.\n",
      "p-value = 0.08319122504107007.\n",
      "\n",
      "Checking difference of 20.\n",
      "p-value = 0.0015177435858646233.\n",
      "Differencing our time series by d=20 yields a stationary time series!\n"
     ]
    }
   ],
   "source": [
    "\n",
    "# Write a for loop to find the lowest difference value d.\n",
    "\n",
    "# Iterate through all possible differences.\n",
    "for d in range(1, len(atlantic_unemploy)):\n",
    "    \n",
    "    # Print out a counter and the corresponding p-value.\n",
    "    print(f'Checking difference of {d}.')\n",
    "    print(f'p-value = {interpret_dftest(adfuller(atlantic_unemploy[\"ATLA134URN\"].diff(d).dropna()))[\"p-value\"]}.')\n",
    "          \n",
    "    # If our data, differenced by d time periods, are stationary, print that out!\n",
    "    if interpret_dftest(adfuller(atlantic_unemploy['ATLA134URN'].diff(d).dropna()))['p-value'] < 0.05:\n",
    "        print(f'Differencing our time series by d={d} yields a stationary time series!')\n",
    "        break\n",
    "    \n",
    "    print()"
   ]
  },
  {
   "cell_type": "code",
   "execution_count": null,
   "metadata": {},
   "outputs": [],
   "source": []
  }
 ],
 "metadata": {
  "kernelspec": {
   "display_name": "Python 3",
   "language": "python",
   "name": "python3"
  },
  "language_info": {
   "codemirror_mode": {
    "name": "ipython",
    "version": 3
   },
   "file_extension": ".py",
   "mimetype": "text/x-python",
   "name": "python",
   "nbconvert_exporter": "python",
   "pygments_lexer": "ipython3",
   "version": "3.7.2"
  }
 },
 "nbformat": 4,
 "nbformat_minor": 2
}
